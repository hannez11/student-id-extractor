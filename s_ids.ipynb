{
 "cells": [
  {
   "cell_type": "markdown",
   "metadata": {},
   "source": [
    "# extract relevant ids from txt files"
   ]
  },
  {
   "cell_type": "markdown",
   "metadata": {},
   "source": [
    "## example"
   ]
  },
  {
   "cell_type": "code",
   "execution_count": 51,
   "metadata": {},
   "outputs": [
    {
     "name": "stdout",
     "output_type": "stream",
     "text": [
      "number of ids: 209\n"
     ]
    }
   ],
   "source": [
    "f = open(r\"C:\\Users\\Hannes\\Desktop\\WS22_Master\\anwendungen_22.txt\", \"r\")\n",
    "text = f.read()\n",
    "\n",
    "username_split = text.split(\"username=s\")[1:]\n",
    "# f = open(r\"C:\\Users\\Hannes\\Desktop\\WS22_Master\\anwendungen_22.txt\", \"r\")\n",
    "username_split_j = text.split(\"username=j\")[1:]\n",
    "username_split += username_split_j\n",
    "\n",
    "ids = [\"s\"+i[:5]+\"@uni-giessen.de\" if i[:1] != \"_\" else \"j\"+i[:8]+\"@uni-giessen.de\" for i in username_split]\n",
    "counter = [index for index, value in enumerate(ids, start=1)]\n",
    "columns = {'counter': counter, 'ids': ids}  \n",
    "\n",
    "# print(ids)\n",
    "print(f\"number of ids: {len(ids)}\")\n",
    "df = pd.DataFrame(columns) \n",
    "df.drop_duplicates(subset=[\"ids\"], inplace=True) #drop id duplicates\n",
    "\n",
    "# df"
   ]
  },
  {
   "cell_type": "markdown",
   "metadata": {},
   "source": [
    "## complete"
   ]
  },
  {
   "cell_type": "code",
   "execution_count": 49,
   "metadata": {},
   "outputs": [
    {
     "name": "stdout",
     "output_type": "stream",
     "text": [
      "number of ids: 162\n",
      "number of ids: 209\n",
      "number of ids: 239\n",
      "number of ids: 120\n",
      "number of ids: 112\n",
      "number of ids: 191\n"
     ]
    }
   ],
   "source": [
    "import glob\n",
    "import pandas as pd\n",
    "\n",
    "# create empty list to append dfs\n",
    "dfs = []\n",
    "\n",
    "#print all files of folder\n",
    "files = glob.glob(r\"C:\\Users\\Hannes\\Desktop\\WS22_Master\\*\")\n",
    "for index, file in enumerate(files):\n",
    "    f = open(file, \"r\").read()\n",
    "\n",
    "    #split after \"username=s\" or \"username=j\" and ignore first list item\n",
    "    username_split = f.split(\"username=s\")[1:]\n",
    "    username_split_j = text.split(\"username=j\")[1:]\n",
    "    username_split += username_split_j\n",
    "\n",
    "    ids = [\"s\"+i[:5]+\"@uni-giessen.de\" if i[:1] != \"_\" else \"j\"+i[:8]+\"@uni-giessen.de\" for i in username_split]\n",
    "    counter = [index for index, value in enumerate(ids, start=1)]\n",
    "    # print(ids)\n",
    "    print(f\"number of ids: {len(ids)}\")\n",
    "\n",
    "    #create and save dataframe     \n",
    "    columns = {'counter': counter, 'ids': ids}  \n",
    "    df = pd.DataFrame(columns) \n",
    "    df.drop_duplicates(subset=[\"ids\"], inplace=True) #drop id duplicates\n",
    "\n",
    "    # append to dfs list\n",
    "    dfs.append(df)\n",
    "\n",
    "#combine to one df\n",
    "df_all = pd.concat(dfs, ignore_index=True)\n",
    "\n",
    "# drop duplicate ids\n",
    "df_all.drop_duplicates(subset=[\"ids\"], keep=\"first\", inplace=True)\n",
    "df_all.reset_index(inplace=True)\n",
    "df_all.drop(columns=[\"counter\", \"index\"], inplace=True)\n",
    "\n",
    "df_all\n",
    "\n",
    "df_all.to_csv(r\"C:\\Users\\Hannes\\Desktop\\s_ids_master_ws22.csv\", sep=\";\", index=False) "
   ]
  }
 ],
 "metadata": {
  "kernelspec": {
   "display_name": "Python 3.11.0 ('python311')",
   "language": "python",
   "name": "python3"
  },
  "language_info": {
   "codemirror_mode": {
    "name": "ipython",
    "version": 3
   },
   "file_extension": ".py",
   "mimetype": "text/x-python",
   "name": "python",
   "nbconvert_exporter": "python",
   "pygments_lexer": "ipython3",
   "version": "3.11.0"
  },
  "orig_nbformat": 4,
  "vscode": {
   "interpreter": {
    "hash": "901dd2ab782771b447f8c427810fe73536d21f5afb6e82bdd796a14a83ea63e6"
   }
  }
 },
 "nbformat": 4,
 "nbformat_minor": 2
}
